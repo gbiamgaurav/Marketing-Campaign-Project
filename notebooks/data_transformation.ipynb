{
 "cells": [
  {
   "cell_type": "code",
   "execution_count": 1,
   "metadata": {},
   "outputs": [
    {
     "data": {
      "text/plain": [
       "'d:\\\\End-to-End-Projects\\\\Marketing-Campaign-Project\\\\notebooks'"
      ]
     },
     "execution_count": 1,
     "metadata": {},
     "output_type": "execute_result"
    }
   ],
   "source": [
    "import os \n",
    "%pwd"
   ]
  },
  {
   "cell_type": "code",
   "execution_count": 2,
   "metadata": {},
   "outputs": [
    {
     "data": {
      "text/plain": [
       "'d:\\\\End-to-End-Projects\\\\Marketing-Campaign-Project'"
      ]
     },
     "execution_count": 2,
     "metadata": {},
     "output_type": "execute_result"
    }
   ],
   "source": [
    "os.chdir(\"../\")\n",
    "%pwd"
   ]
  },
  {
   "cell_type": "code",
   "execution_count": 3,
   "metadata": {},
   "outputs": [],
   "source": [
    "from dataclasses import dataclass\n",
    "from pathlib import Path\n",
    "\n",
    "\n",
    "@dataclass(frozen=True)\n",
    "class DataTransformationConfig:\n",
    "    root_dir: Path\n",
    "    data_path: Path\n",
    "    preprocessor_path: Path"
   ]
  },
  {
   "cell_type": "code",
   "execution_count": 4,
   "metadata": {},
   "outputs": [],
   "source": [
    "from Prediction_project.constants import *\n",
    "from Prediction_project.utils.common import read_yaml, create_directories"
   ]
  },
  {
   "cell_type": "code",
   "execution_count": 5,
   "metadata": {},
   "outputs": [],
   "source": [
    "class ConfigurationManager:\n",
    "    def __init__(\n",
    "        self,\n",
    "        config_filepath = CONFIG_FILE_PATH,\n",
    "        params_filepath = PARAMS_FILE_PATH,\n",
    "        schema_filepath = SCHEMA_FILE_PATH):\n",
    "\n",
    "        self.config = read_yaml(config_filepath)\n",
    "        self.params = read_yaml(params_filepath)\n",
    "        self.schema = read_yaml(schema_filepath)\n",
    "\n",
    "        create_directories([self.config.artifacts_root])\n",
    "\n",
    "    \n",
    "    def get_data_transformation_config(self) -> DataTransformationConfig:\n",
    "        config = self.config.data_transformation\n",
    "\n",
    "        create_directories([config.root_dir])\n",
    "\n",
    "        data_transformation_config = DataTransformationConfig(\n",
    "            root_dir=config.root_dir,\n",
    "            data_path=config.data_path,\n",
    "            preprocessor_path=config.preprocessor_path\n",
    "        )\n",
    "\n",
    "        return data_transformation_config"
   ]
  },
  {
   "cell_type": "code",
   "execution_count": 7,
   "metadata": {},
   "outputs": [],
   "source": [
    "import pandas as pd\n",
    "import numpy as np\n",
    "import matplotlib.pyplot as plt\n",
    "import seaborn as sns\n",
    "%matplotlib inline\n",
    "import warnings\n",
    "warnings.filterwarnings(\"ignore\")\n",
    "from sklearn.pipeline import Pipeline\n",
    "from sklearn.impute import SimpleImputer\n",
    "from sklearn.preprocessing import RobustScaler, OrdinalEncoder, LabelEncoder\n",
    "from sklearn.compose import ColumnTransformer\n",
    "from sklearn.model_selection import GridSearchCV\n",
    "from sklearn.model_selection import train_test_split\n",
    "from imblearn.over_sampling import SMOTE, RandomOverSampler\n",
    "from collections import Counter\n",
    "from Prediction_project import logger\n",
    "import joblib"
   ]
  },
  {
   "cell_type": "code",
   "execution_count": 8,
   "metadata": {},
   "outputs": [],
   "source": [
    "class DataTransformation:\n",
    "    def __init__(self, config):\n",
    "        self.config = config\n",
    "        self.preprocessor = None \n",
    "        self.transformed_df = None\n",
    "\n",
    "    def get_data_transformation(self):\n",
    "        try:\n",
    "            # Load the dataset\n",
    "            df = pd.read_csv(self.config.data_path)\n",
    "\n",
    "            #df['contact'] = df['contact'].replace('cellular', 'telephone')\n",
    "            #df['poutcome'] = df['poutcome'].replace('unknown', 'other')\n",
    "\n",
    "\n",
    "            # Divide the dataset into independent and dependent features\n",
    "            X = df.drop(columns=[\"responded\"], axis=1)\n",
    "            y = df[\"responded\"]\n",
    "\n",
    "            logger.info(\"Dividing the dataset into independent and dependent features completed\")\n",
    "\n",
    "            # Create an instance of LabelEncoder\n",
    "            label_encoder = LabelEncoder()\n",
    "\n",
    "            # Fit the label encoder to your categorical labels (y) and transform them\n",
    "            y_encoded = label_encoder.fit_transform(y)\n",
    "\n",
    "            logger.info(\"Encoding Target variable completed\")\n",
    "\n",
    "            numeric_features = X.select_dtypes(exclude=\"object\").columns\n",
    "            categorical_features = X.select_dtypes(include=\"object\").columns\n",
    "\n",
    "            # Oversample the minority class using RandomOverSampler\n",
    "            oversampler = RandomOverSampler()\n",
    "            X_resampled, y_resampled = oversampler.fit_resample(X, y_encoded)\n",
    "\n",
    "            # Define the pipeline\n",
    "            num_pipeline = Pipeline(\n",
    "                steps=[\n",
    "                    (\"imputer\", SimpleImputer(strategy=\"median\")),\n",
    "                    (\"scaler\", RobustScaler())\n",
    "                ])\n",
    "\n",
    "            cat_pipeline = Pipeline(\n",
    "                steps=[\n",
    "                    (\"imputer\", SimpleImputer(strategy=\"most_frequent\")),\n",
    "                    (\"ordinalencoder\", OrdinalEncoder()),\n",
    "                ])\n",
    "\n",
    "            # Define the Preprocessor\n",
    "            preprocessor = ColumnTransformer(transformers=[\n",
    "                (\"OrdinalEncoder\", OrdinalEncoder(handle_unknown='use_encoded_value', unknown_value=-1), categorical_features),\n",
    "                (\"RobustScaler\", RobustScaler(), numeric_features)\n",
    "            ], remainder=\"passthrough\")\n",
    "\n",
    "            self.preprocessor = preprocessor\n",
    "\n",
    "            # Transform the whole data using the preprocessor\n",
    "            X_transformed = preprocessor.fit_transform(X_resampled)\n",
    "\n",
    "            # Get the updated column names after ordinal encoding\n",
    "            column_names = numeric_features.to_list() + categorical_features.to_list()\n",
    "\n",
    "            # Combine X_transformed and y back into one Dataframe\n",
    "            self.transformed_df = pd.DataFrame(X_transformed, columns=column_names)\n",
    "            self.transformed_df[\"target\"] = y_resampled\n",
    "\n",
    "            logger.info(\"Data preprocessing completed\")\n",
    "\n",
    "        except Exception as e:\n",
    "            raise e\n",
    "\n",
    "    def save_preprocessor(self):\n",
    "        if self.preprocessor is not None:\n",
    "            joblib.dump(self.preprocessor, self.config.preprocessor_path)\n",
    "            logger.info(f\"Preprocessor saved to {self.config.preprocessor_path}\")\n",
    "        else:\n",
    "            logger.warning(\"Preprocessor is not available. Please call get_data_transformation to create it.\") \n",
    "\n",
    "    def train_test_split(self, test_size=0.2, random_state=None):\n",
    "        if self.preprocessor is None:\n",
    "            raise ValueError(\"Preprocessor is not available. Please call get_data_transformation.\")\n",
    "\n",
    "        # Split the data into train and test sets\n",
    "        train, test = train_test_split(self.transformed_df, test_size=test_size, random_state=random_state)\n",
    "\n",
    "        # Save the encoded train and test sets in the form of CSV files\n",
    "        train.to_csv(os.path.join(self.config.root_dir, \"train.csv\"), index=False)\n",
    "        test.to_csv(os.path.join(self.config.root_dir, \"test.csv\"), index=False)\n",
    "\n",
    "        logger.info(\"Split the data into train and test sets.\")\n",
    "        logger.info(f\"Shape of train data: {train.shape}\")\n",
    "        logger.info(f\"Shape of test data: {test.shape}\")"
   ]
  },
  {
   "cell_type": "code",
   "execution_count": 9,
   "metadata": {},
   "outputs": [
    {
     "name": "stdout",
     "output_type": "stream",
     "text": [
      "[2024-06-15 08:19:11,721: INFO: common: yaml file: config\\config.yaml loaded successfully]\n",
      "[2024-06-15 08:19:11,724: INFO: common: yaml file: params.yaml loaded successfully]\n",
      "[2024-06-15 08:19:11,728: INFO: common: yaml file: schema.yaml loaded successfully]\n",
      "[2024-06-15 08:19:11,729: INFO: common: created directory at: artifacts]\n",
      "[2024-06-15 08:19:11,731: INFO: common: created directory at: artifacts/data_transformation]\n",
      "[2024-06-15 08:19:11,895: INFO: 3380371434: Dividing the dataset into independent and dependent features completed]\n",
      "[2024-06-15 08:19:11,899: INFO: 3380371434: Encoding Target variable completed]\n",
      "[2024-06-15 08:19:12,025: INFO: 3380371434: Data preprocessing completed]\n",
      "[2024-06-15 08:19:12,031: INFO: 3380371434: Preprocessor saved to artifacts/data_transformation/preprocessor.joblib]\n",
      "[2024-06-15 08:19:12,074: INFO: 3380371434: Split the data into train and test sets.]\n",
      "[2024-06-15 08:19:12,075: INFO: 3380371434: Shape of train data: (44, 9)]\n",
      "[2024-06-15 08:19:12,076: INFO: 3380371434: Shape of test data: (12, 9)]\n"
     ]
    }
   ],
   "source": [
    "try:\n",
    "    config = ConfigurationManager()\n",
    "    data_transformation_config = config.get_data_transformation_config()\n",
    "    data_transformation = DataTransformation(config=data_transformation_config)\n",
    "    data_transformation.get_data_transformation()\n",
    "    data_transformation.save_preprocessor()\n",
    "    data_transformation.train_test_split()\n",
    "except Exception as e:\n",
    "    raise e"
   ]
  },
  {
   "cell_type": "code",
   "execution_count": null,
   "metadata": {},
   "outputs": [],
   "source": []
  }
 ],
 "metadata": {
  "kernelspec": {
   "display_name": "Python 3",
   "language": "python",
   "name": "python3"
  },
  "language_info": {
   "codemirror_mode": {
    "name": "ipython",
    "version": 3
   },
   "file_extension": ".py",
   "mimetype": "text/x-python",
   "name": "python",
   "nbconvert_exporter": "python",
   "pygments_lexer": "ipython3",
   "version": "3.9.19"
  }
 },
 "nbformat": 4,
 "nbformat_minor": 2
}
