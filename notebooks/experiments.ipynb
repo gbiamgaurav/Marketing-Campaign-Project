{
 "cells": [
  {
   "cell_type": "code",
   "execution_count": 1,
   "metadata": {},
   "outputs": [
    {
     "data": {
      "text/plain": [
       "'d:\\\\End-to-End-Projects\\\\Marketing-Campaign-Project\\\\notebooks'"
      ]
     },
     "execution_count": 1,
     "metadata": {},
     "output_type": "execute_result"
    }
   ],
   "source": [
    "import os \n",
    "%pwd"
   ]
  },
  {
   "cell_type": "code",
   "execution_count": 2,
   "metadata": {},
   "outputs": [
    {
     "data": {
      "text/plain": [
       "'d:\\\\End-to-End-Projects\\\\Marketing-Campaign-Project'"
      ]
     },
     "execution_count": 2,
     "metadata": {},
     "output_type": "execute_result"
    }
   ],
   "source": [
    "os.chdir(\"../\")\n",
    "%pwd"
   ]
  },
  {
   "cell_type": "code",
   "execution_count": 3,
   "metadata": {},
   "outputs": [
    {
     "data": {
      "text/html": [
       "<div>\n",
       "<style scoped>\n",
       "    .dataframe tbody tr th:only-of-type {\n",
       "        vertical-align: middle;\n",
       "    }\n",
       "\n",
       "    .dataframe tbody tr th {\n",
       "        vertical-align: top;\n",
       "    }\n",
       "\n",
       "    .dataframe thead th {\n",
       "        text-align: right;\n",
       "    }\n",
       "</style>\n",
       "<table border=\"1\" class=\"dataframe\">\n",
       "  <thead>\n",
       "    <tr style=\"text-align: right;\">\n",
       "      <th></th>\n",
       "      <th>customer_id</th>\n",
       "      <th>age</th>\n",
       "      <th>gender</th>\n",
       "      <th>annual_income</th>\n",
       "      <th>credit_score</th>\n",
       "      <th>employed</th>\n",
       "      <th>marital_status</th>\n",
       "      <th>no_of_children</th>\n",
       "      <th>responded</th>\n",
       "    </tr>\n",
       "  </thead>\n",
       "  <tbody>\n",
       "    <tr>\n",
       "      <th>0</th>\n",
       "      <td>1</td>\n",
       "      <td>35</td>\n",
       "      <td>Male</td>\n",
       "      <td>65000</td>\n",
       "      <td>720</td>\n",
       "      <td>Yes</td>\n",
       "      <td>Married</td>\n",
       "      <td>2</td>\n",
       "      <td>Yes</td>\n",
       "    </tr>\n",
       "    <tr>\n",
       "      <th>1</th>\n",
       "      <td>2</td>\n",
       "      <td>28</td>\n",
       "      <td>Female</td>\n",
       "      <td>45000</td>\n",
       "      <td>680</td>\n",
       "      <td>No</td>\n",
       "      <td>Single</td>\n",
       "      <td>0</td>\n",
       "      <td>No</td>\n",
       "    </tr>\n",
       "    <tr>\n",
       "      <th>2</th>\n",
       "      <td>3</td>\n",
       "      <td>42</td>\n",
       "      <td>Male</td>\n",
       "      <td>85000</td>\n",
       "      <td>750</td>\n",
       "      <td>Yes</td>\n",
       "      <td>Married</td>\n",
       "      <td>3</td>\n",
       "      <td>Yes</td>\n",
       "    </tr>\n",
       "    <tr>\n",
       "      <th>3</th>\n",
       "      <td>4</td>\n",
       "      <td>31</td>\n",
       "      <td>Female</td>\n",
       "      <td>55000</td>\n",
       "      <td>710</td>\n",
       "      <td>Yes</td>\n",
       "      <td>Single</td>\n",
       "      <td>1</td>\n",
       "      <td>No</td>\n",
       "    </tr>\n",
       "    <tr>\n",
       "      <th>4</th>\n",
       "      <td>5</td>\n",
       "      <td>47</td>\n",
       "      <td>Male</td>\n",
       "      <td>95000</td>\n",
       "      <td>790</td>\n",
       "      <td>Yes</td>\n",
       "      <td>Married</td>\n",
       "      <td>2</td>\n",
       "      <td>Yes</td>\n",
       "    </tr>\n",
       "  </tbody>\n",
       "</table>\n",
       "</div>"
      ],
      "text/plain": [
       "   customer_id  age  gender  annual_income  credit_score employed  \\\n",
       "0            1   35    Male          65000           720      Yes   \n",
       "1            2   28  Female          45000           680       No   \n",
       "2            3   42    Male          85000           750      Yes   \n",
       "3            4   31  Female          55000           710      Yes   \n",
       "4            5   47    Male          95000           790      Yes   \n",
       "\n",
       "  marital_status  no_of_children responded  \n",
       "0        Married               2       Yes  \n",
       "1         Single               0        No  \n",
       "2        Married               3       Yes  \n",
       "3         Single               1        No  \n",
       "4        Married               2       Yes  "
      ]
     },
     "execution_count": 3,
     "metadata": {},
     "output_type": "execute_result"
    }
   ],
   "source": [
    "import pandas as pd \n",
    "\n",
    "df = pd.read_csv(\"artifacts/data_ingestion/campaign_responses.csv\")\n",
    "\n",
    "df.head()"
   ]
  },
  {
   "cell_type": "code",
   "execution_count": 4,
   "metadata": {},
   "outputs": [
    {
     "name": "stdout",
     "output_type": "stream",
     "text": [
      "<class 'pandas.core.frame.DataFrame'>\n",
      "RangeIndex: 56 entries, 0 to 55\n",
      "Data columns (total 9 columns):\n",
      " #   Column          Non-Null Count  Dtype \n",
      "---  ------          --------------  ----- \n",
      " 0   customer_id     56 non-null     int64 \n",
      " 1   age             56 non-null     int64 \n",
      " 2   gender          56 non-null     object\n",
      " 3   annual_income   56 non-null     int64 \n",
      " 4   credit_score    56 non-null     int64 \n",
      " 5   employed        56 non-null     object\n",
      " 6   marital_status  56 non-null     object\n",
      " 7   no_of_children  56 non-null     int64 \n",
      " 8   responded       56 non-null     object\n",
      "dtypes: int64(5), object(4)\n",
      "memory usage: 4.1+ KB\n"
     ]
    }
   ],
   "source": [
    "df.info()"
   ]
  },
  {
   "cell_type": "code",
   "execution_count": 13,
   "metadata": {},
   "outputs": [
    {
     "data": {
      "text/plain": [
       "count     56.000000\n",
       "mean     719.107143\n",
       "std       60.340753\n",
       "min      600.000000\n",
       "25%      677.500000\n",
       "50%      720.000000\n",
       "75%      770.000000\n",
       "max      820.000000\n",
       "Name: credit_score, dtype: float64"
      ]
     },
     "execution_count": 13,
     "metadata": {},
     "output_type": "execute_result"
    }
   ],
   "source": [
    "df['credit_score'].describe()"
   ]
  },
  {
   "cell_type": "code",
   "execution_count": 14,
   "metadata": {},
   "outputs": [
    {
     "data": {
      "text/plain": [
       "employed\n",
       "Yes    43\n",
       "No     13\n",
       "Name: count, dtype: int64"
      ]
     },
     "execution_count": 14,
     "metadata": {},
     "output_type": "execute_result"
    }
   ],
   "source": [
    "df['employed'].value_counts()"
   ]
  },
  {
   "cell_type": "code",
   "execution_count": 15,
   "metadata": {},
   "outputs": [
    {
     "name": "stdout",
     "output_type": "stream",
     "text": [
      "<class 'pandas.core.frame.DataFrame'>\n",
      "RangeIndex: 56 entries, 0 to 55\n",
      "Data columns (total 9 columns):\n",
      " #   Column          Non-Null Count  Dtype \n",
      "---  ------          --------------  ----- \n",
      " 0   customer_id     56 non-null     int64 \n",
      " 1   age             56 non-null     int64 \n",
      " 2   gender          56 non-null     object\n",
      " 3   annual_income   56 non-null     int64 \n",
      " 4   credit_score    56 non-null     int64 \n",
      " 5   employed        56 non-null     object\n",
      " 6   marital_status  56 non-null     object\n",
      " 7   no_of_children  56 non-null     int64 \n",
      " 8   responded       56 non-null     object\n",
      "dtypes: int64(5), object(4)\n",
      "memory usage: 4.1+ KB\n"
     ]
    }
   ],
   "source": [
    "df.info()"
   ]
  },
  {
   "cell_type": "code",
   "execution_count": 16,
   "metadata": {},
   "outputs": [
    {
     "data": {
      "text/plain": [
       "marital_status\n",
       "Married    28\n",
       "Single     28\n",
       "Name: count, dtype: int64"
      ]
     },
     "execution_count": 16,
     "metadata": {},
     "output_type": "execute_result"
    }
   ],
   "source": [
    "df['marital_status'].value_counts()"
   ]
  },
  {
   "cell_type": "code",
   "execution_count": 17,
   "metadata": {},
   "outputs": [
    {
     "data": {
      "text/plain": [
       "count    56.000000\n",
       "mean      1.285714\n",
       "std       1.186504\n",
       "min       0.000000\n",
       "25%       0.000000\n",
       "50%       1.000000\n",
       "75%       2.000000\n",
       "max       3.000000\n",
       "Name: no_of_children, dtype: float64"
      ]
     },
     "execution_count": 17,
     "metadata": {},
     "output_type": "execute_result"
    }
   ],
   "source": [
    "df['no_of_children'].describe()"
   ]
  },
  {
   "cell_type": "code",
   "execution_count": 18,
   "metadata": {},
   "outputs": [
    {
     "name": "stdout",
     "output_type": "stream",
     "text": [
      "<class 'pandas.core.frame.DataFrame'>\n",
      "RangeIndex: 56 entries, 0 to 55\n",
      "Data columns (total 9 columns):\n",
      " #   Column          Non-Null Count  Dtype \n",
      "---  ------          --------------  ----- \n",
      " 0   customer_id     56 non-null     int64 \n",
      " 1   age             56 non-null     int64 \n",
      " 2   gender          56 non-null     object\n",
      " 3   annual_income   56 non-null     int64 \n",
      " 4   credit_score    56 non-null     int64 \n",
      " 5   employed        56 non-null     object\n",
      " 6   marital_status  56 non-null     object\n",
      " 7   no_of_children  56 non-null     int64 \n",
      " 8   responded       56 non-null     object\n",
      "dtypes: int64(5), object(4)\n",
      "memory usage: 4.1+ KB\n"
     ]
    }
   ],
   "source": [
    "df.info()"
   ]
  },
  {
   "cell_type": "code",
   "execution_count": 19,
   "metadata": {},
   "outputs": [
    {
     "data": {
      "text/plain": [
       "responded\n",
       "Yes    28\n",
       "No     28\n",
       "Name: count, dtype: int64"
      ]
     },
     "execution_count": 19,
     "metadata": {},
     "output_type": "execute_result"
    }
   ],
   "source": [
    "df['responded'].value_counts()"
   ]
  },
  {
   "cell_type": "code",
   "execution_count": null,
   "metadata": {},
   "outputs": [],
   "source": []
  }
 ],
 "metadata": {
  "kernelspec": {
   "display_name": "Python 3",
   "language": "python",
   "name": "python3"
  },
  "language_info": {
   "codemirror_mode": {
    "name": "ipython",
    "version": 3
   },
   "file_extension": ".py",
   "mimetype": "text/x-python",
   "name": "python",
   "nbconvert_exporter": "python",
   "pygments_lexer": "ipython3",
   "version": "3.9.19"
  }
 },
 "nbformat": 4,
 "nbformat_minor": 2
}
